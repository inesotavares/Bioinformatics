{
 "cells": [
  {
   "cell_type": "markdown",
   "metadata": {},
   "source": [
    "# Machine Learning algorithms"
   ]
  },
  {
   "cell_type": "code",
   "execution_count": 27,
   "metadata": {},
   "outputs": [],
   "source": [
    "import pandas as pd\n",
    "import sklearn\n",
    "import numpy as np\n",
    "from sklearn.model_selection import train_test_split, StratifiedKFold, cross_val_score\n",
    "from sklearn.svm import SVC\n",
    "from sklearn.ensemble import RandomForestClassifier\n",
    "from sklearn.naive_bayes import GaussianNB\n",
    "from sklearn.metrics import accuracy_score, precision_score, recall_score, f1_score, classification_report"
   ]
  },
  {
   "cell_type": "code",
   "execution_count": 15,
   "metadata": {},
   "outputs": [
    {
     "name": "stdout",
     "output_type": "stream",
     "text": [
      "            AA        AR        AN        AD        AC        AQ        AE  \\\n",
      "0     0.014414  0.007207  0.000000  0.007207  0.007207  0.007207  0.000000   \n",
      "1     0.000000  0.002920  0.011679  0.002920  0.002920  0.000000  0.002920   \n",
      "2     0.000000  0.000000  0.000000  0.000000  0.000000  0.003591  0.000000   \n",
      "3     0.000000  0.000000  0.000000  0.000000  0.000000  0.004301  0.000000   \n",
      "4     0.006502  0.002890  0.001445  0.003251  0.001084  0.005418  0.003973   \n",
      "...        ...       ...       ...       ...       ...       ...       ...   \n",
      "1440  0.026667  0.000000  0.000000  0.026667  0.000000  0.013333  0.026667   \n",
      "1441  0.033333  0.011111  0.000000  0.000000  0.000000  0.022222  0.011111   \n",
      "1442  0.000000  0.000000  0.000000  0.000000  0.000000  0.000000  0.000000   \n",
      "1443  0.000000  0.000000  0.000000  0.000000  0.000000  0.000000  0.000000   \n",
      "1444  0.000000  0.000000  0.000000  0.000000  0.000000  0.012987  0.012987   \n",
      "\n",
      "            AG        AH        AI  ...        VK        VM        VF  \\\n",
      "0     0.000000  0.003604  0.000000  ...  0.000000  0.000000  0.007207   \n",
      "1     0.002920  0.000000  0.000000  ...  0.002920  0.005839  0.002920   \n",
      "2     0.000000  0.000000  0.000000  ...  0.000000  0.003591  0.010772   \n",
      "3     0.004301  0.004301  0.000000  ...  0.004301  0.000000  0.000000   \n",
      "4     0.006502  0.001445  0.000722  ...  0.002528  0.000361  0.000722   \n",
      "...        ...       ...       ...  ...       ...       ...       ...   \n",
      "1440  0.013333  0.000000  0.000000  ...  0.000000  0.000000  0.000000   \n",
      "1441  0.000000  0.000000  0.022222  ...  0.033333  0.000000  0.000000   \n",
      "1442  0.000000  0.000000  0.027397  ...  0.000000  0.000000  0.013699   \n",
      "1443  0.000000  0.000000  0.027397  ...  0.000000  0.000000  0.013699   \n",
      "1444  0.012987  0.000000  0.012987  ...  0.000000  0.000000  0.000000   \n",
      "\n",
      "            VP        VS        VT        VW        VY        VV  target  \n",
      "0     0.003604  0.000000  0.010811  0.000000  0.000000  0.000000       0  \n",
      "1     0.005839  0.000000  0.000000  0.000000  0.000000  0.000000       0  \n",
      "2     0.000000  0.000000  0.003591  0.000000  0.000000  0.003591       0  \n",
      "3     0.000000  0.008602  0.000000  0.000000  0.000000  0.000000       0  \n",
      "4     0.004334  0.003612  0.002167  0.000722  0.001084  0.001084       0  \n",
      "...        ...       ...       ...       ...       ...       ...     ...  \n",
      "1440  0.000000  0.013333  0.000000  0.000000  0.013333  0.000000       1  \n",
      "1441  0.000000  0.000000  0.000000  0.000000  0.000000  0.011111       1  \n",
      "1442  0.000000  0.000000  0.000000  0.000000  0.000000  0.013699       1  \n",
      "1443  0.000000  0.000000  0.013699  0.000000  0.000000  0.013699       1  \n",
      "1444  0.000000  0.000000  0.000000  0.000000  0.000000  0.000000       1  \n",
      "\n",
      "[1445 rows x 401 columns]\n"
     ]
    }
   ],
   "source": [
    "data=pd.read_csv('df.csv')\n",
    "print(data)"
   ]
  },
  {
   "cell_type": "code",
   "execution_count": 19,
   "metadata": {},
   "outputs": [
    {
     "name": "stdout",
     "output_type": "stream",
     "text": [
      "0       0\n",
      "1       0\n",
      "2       0\n",
      "3       0\n",
      "4       0\n",
      "       ..\n",
      "1440    1\n",
      "1441    1\n",
      "1442    1\n",
      "1443    1\n",
      "1444    1\n",
      "Name: target, Length: 1445, dtype: int64\n",
      "            AA        AR        AN        AD        AC        AQ        AE  \\\n",
      "0     0.014414  0.007207  0.000000  0.007207  0.007207  0.007207  0.000000   \n",
      "1     0.000000  0.002920  0.011679  0.002920  0.002920  0.000000  0.002920   \n",
      "2     0.000000  0.000000  0.000000  0.000000  0.000000  0.003591  0.000000   \n",
      "3     0.000000  0.000000  0.000000  0.000000  0.000000  0.004301  0.000000   \n",
      "4     0.006502  0.002890  0.001445  0.003251  0.001084  0.005418  0.003973   \n",
      "...        ...       ...       ...       ...       ...       ...       ...   \n",
      "1440  0.026667  0.000000  0.000000  0.026667  0.000000  0.013333  0.026667   \n",
      "1441  0.033333  0.011111  0.000000  0.000000  0.000000  0.022222  0.011111   \n",
      "1442  0.000000  0.000000  0.000000  0.000000  0.000000  0.000000  0.000000   \n",
      "1443  0.000000  0.000000  0.000000  0.000000  0.000000  0.000000  0.000000   \n",
      "1444  0.000000  0.000000  0.000000  0.000000  0.000000  0.012987  0.012987   \n",
      "\n",
      "            AG        AH        AI  ...        VL        VK        VM  \\\n",
      "0     0.000000  0.003604  0.000000  ...  0.007207  0.000000  0.000000   \n",
      "1     0.002920  0.000000  0.000000  ...  0.005839  0.002920  0.005839   \n",
      "2     0.000000  0.000000  0.000000  ...  0.014363  0.000000  0.003591   \n",
      "3     0.004301  0.004301  0.000000  ...  0.000000  0.004301  0.000000   \n",
      "4     0.006502  0.001445  0.000722  ...  0.004696  0.002528  0.000361   \n",
      "...        ...       ...       ...  ...       ...       ...       ...   \n",
      "1440  0.013333  0.000000  0.000000  ...  0.013333  0.000000  0.000000   \n",
      "1441  0.000000  0.000000  0.022222  ...  0.011111  0.033333  0.000000   \n",
      "1442  0.000000  0.000000  0.027397  ...  0.013699  0.000000  0.000000   \n",
      "1443  0.000000  0.000000  0.027397  ...  0.013699  0.000000  0.000000   \n",
      "1444  0.012987  0.000000  0.012987  ...  0.051948  0.000000  0.000000   \n",
      "\n",
      "            VF        VP        VS        VT        VW        VY        VV  \n",
      "0     0.007207  0.003604  0.000000  0.010811  0.000000  0.000000  0.000000  \n",
      "1     0.002920  0.005839  0.000000  0.000000  0.000000  0.000000  0.000000  \n",
      "2     0.010772  0.000000  0.000000  0.003591  0.000000  0.000000  0.003591  \n",
      "3     0.000000  0.000000  0.008602  0.000000  0.000000  0.000000  0.000000  \n",
      "4     0.000722  0.004334  0.003612  0.002167  0.000722  0.001084  0.001084  \n",
      "...        ...       ...       ...       ...       ...       ...       ...  \n",
      "1440  0.000000  0.000000  0.013333  0.000000  0.000000  0.013333  0.000000  \n",
      "1441  0.000000  0.000000  0.000000  0.000000  0.000000  0.000000  0.011111  \n",
      "1442  0.013699  0.000000  0.000000  0.000000  0.000000  0.000000  0.013699  \n",
      "1443  0.013699  0.000000  0.000000  0.013699  0.000000  0.000000  0.013699  \n",
      "1444  0.000000  0.000000  0.000000  0.000000  0.000000  0.000000  0.000000  \n",
      "\n",
      "[1445 rows x 400 columns]\n"
     ]
    }
   ],
   "source": [
    "X = data.iloc[:,:-1]\n",
    "y = data['target']\n",
    "X_train, X_test, y_train, y_test = train_test_split(X, y, test_size=0.3, random_state=42)\n",
    "print(y)\n",
    "print(X)"
   ]
  },
  {
   "cell_type": "markdown",
   "metadata": {},
   "source": [
    "### SVM"
   ]
  },
  {
   "cell_type": "code",
   "execution_count": 35,
   "metadata": {},
   "outputs": [
    {
     "name": "stdout",
     "output_type": "stream",
     "text": [
      "SVM Cross-Validation Accuracy:  0.803\n"
     ]
    }
   ],
   "source": [
    "svm_model = SVC(kernel='linear')\n",
    "svm_model.fit(X_train, y_train)\n",
    "skf = StratifiedKFold(n_splits=10, shuffle=True, random_state=42)\n",
    "svm_scores = cross_val_score(svm_model, X, y, cv=skf, scoring='accuracy')\n",
    "print(\"SVM Cross-Validation Accuracy: \", round(np.mean(svm_scores),3))"
   ]
  },
  {
   "cell_type": "code",
   "execution_count": 34,
   "metadata": {},
   "outputs": [
    {
     "name": "stdout",
     "output_type": "stream",
     "text": [
      "SVM Accuracy:  0.818\n",
      "SVM Precision:  0.669\n",
      "SVM Recall:  0.818\n",
      "SVM F1-Score:  0.736\n"
     ]
    },
    {
     "name": "stderr",
     "output_type": "stream",
     "text": [
      "/Users/inestavares/anaconda3/lib/python3.11/site-packages/sklearn/metrics/_classification.py:1469: UndefinedMetricWarning: Precision is ill-defined and being set to 0.0 in labels with no predicted samples. Use `zero_division` parameter to control this behavior.\n",
      "  _warn_prf(average, modifier, msg_start, len(result))\n"
     ]
    }
   ],
   "source": [
    "svm_model.fit(X_train, y_train)\n",
    "svm_predictions = svm_model.predict(X_test)\n",
    "svm_accuracy = accuracy_score(y_test, svm_predictions)\n",
    "svm_precision = precision_score(y_test, svm_predictions, average='weighted')\n",
    "svm_recall = recall_score(y_test, svm_predictions, average='weighted')\n",
    "svm_f1 = f1_score(y_test, svm_predictions, average='weighted')\n",
    "print(\"SVM Accuracy: \",round(svm_accuracy,3))\n",
    "print(\"SVM Precision: \", round(svm_precision,3))\n",
    "print(\"SVM Recall: \", round(svm_recall,3))\n",
    "print(\"SVM F1-Score: \", round(svm_f1,3))"
   ]
  },
  {
   "cell_type": "code",
   "execution_count": null,
   "metadata": {},
   "outputs": [],
   "source": []
  },
  {
   "cell_type": "markdown",
   "metadata": {},
   "source": [
    "### Random Forests "
   ]
  },
  {
   "cell_type": "code",
   "execution_count": 24,
   "metadata": {},
   "outputs": [
    {
     "name": "stdout",
     "output_type": "stream",
     "text": [
      "Random Forest Cross-Validation Accuracy:  0.9902969348659003\n"
     ]
    }
   ],
   "source": [
    "rf_model = RandomForestClassifier(n_estimators=100, random_state=42)\n",
    "skf = StratifiedKFold(n_splits=10, shuffle=True, random_state=42)\n",
    "rf_scores = cross_val_score(rf_model, X, y, cv=skf, scoring='accuracy')\n",
    "print(\"Random Forest Cross-Validation Accuracy: \", np.mean(rf_scores))"
   ]
  },
  {
   "cell_type": "code",
   "execution_count": 33,
   "metadata": {},
   "outputs": [
    {
     "name": "stdout",
     "output_type": "stream",
     "text": [
      "Random Forest Accuracy:  0.995\n",
      "Random Forest Precision:  0.995\n",
      "Random Forest Recall:  0.995\n",
      "Random Forest F1-Score:  0.995\n"
     ]
    }
   ],
   "source": [
    "rf_model.fit(X_train, y_train)\n",
    "rf_predictions = rf_model.predict(X_test)\n",
    "rf_accuracy = accuracy_score(y_test, rf_predictions)\n",
    "rf_precision = precision_score(y_test, rf_predictions, average='weighted')\n",
    "rf_recall = recall_score(y_test, rf_predictions, average='weighted')\n",
    "rf_f1 = f1_score(y_test, rf_predictions, average='weighted')\n",
    "print(\"Random Forest Accuracy: \", round(rf_accuracy,3))\n",
    "print(\"Random Forest Precision: \", round(rf_precision,3))\n",
    "print(\"Random Forest Recall: \", round(rf_recall,3))\n",
    "print(\"Random Forest F1-Score: \", round(rf_f1,3))"
   ]
  },
  {
   "cell_type": "markdown",
   "metadata": {},
   "source": [
    "### NaiveBayes"
   ]
  },
  {
   "cell_type": "code",
   "execution_count": 25,
   "metadata": {},
   "outputs": [
    {
     "name": "stdout",
     "output_type": "stream",
     "text": [
      "Naive Bayes Cross-Validation Accuracy:  0.9688553639846743\n"
     ]
    }
   ],
   "source": [
    "nb_model = GaussianNB()\n",
    "skf = StratifiedKFold(n_splits=10, shuffle=True, random_state=42)\n",
    "nb_scores = cross_val_score(nb_model, X, y, cv=skf, scoring='accuracy')\n",
    "print(\"Naive Bayes Cross-Validation Accuracy: \", np.mean(nb_scores))"
   ]
  },
  {
   "cell_type": "code",
   "execution_count": 32,
   "metadata": {},
   "outputs": [
    {
     "name": "stdout",
     "output_type": "stream",
     "text": [
      "Naive Bayes Accuracy:  0.965\n",
      "Naive Bayes Precision:  0.971\n",
      "Naive Bayes Recall:  0.965\n",
      "Naive Bayes F1-Score:  0.967\n"
     ]
    }
   ],
   "source": [
    "nb_model.fit(X_train, y_train)\n",
    "nb_predictions = nb_model.predict(X_test)\n",
    "nb_accuracy = accuracy_score(y_test, nb_predictions)\n",
    "nb_precision = precision_score(y_test, nb_predictions, average='weighted')\n",
    "nb_recall = recall_score(y_test, nb_predictions, average='weighted')\n",
    "nb_f1 = f1_score(y_test, nb_predictions, average='weighted')\n",
    "print(\"Naive Bayes Accuracy: \", round(nb_accuracy,3))\n",
    "print(\"Naive Bayes Precision: \", round(nb_precision,3))\n",
    "print(\"Naive Bayes Recall: \", round(nb_recall,3))\n",
    "print(\"Naive Bayes F1-Score: \", round(nb_f1,3))"
   ]
  },
  {
   "cell_type": "code",
   "execution_count": null,
   "metadata": {},
   "outputs": [],
   "source": []
  }
 ],
 "metadata": {
  "kernelspec": {
   "display_name": "base",
   "language": "python",
   "name": "python3"
  },
  "language_info": {
   "codemirror_mode": {
    "name": "ipython",
    "version": 3
   },
   "file_extension": ".py",
   "mimetype": "text/x-python",
   "name": "python",
   "nbconvert_exporter": "python",
   "pygments_lexer": "ipython3",
   "version": "3.11.5"
  }
 },
 "nbformat": 4,
 "nbformat_minor": 2
}
