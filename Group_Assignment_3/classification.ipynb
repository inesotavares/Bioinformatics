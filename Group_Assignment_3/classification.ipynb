{
 "cells": [
  {
   "cell_type": "markdown",
   "metadata": {},
   "source": [
    "# Machine Learning algorithms\n",
    "\n",
    "### Bioinfo group_assign_3\n",
    "\n",
    "Import statements"
   ]
  },
  {
   "cell_type": "code",
   "execution_count": 1,
   "metadata": {},
   "outputs": [],
   "source": [
    "import pandas as pd\n",
    "from sklearn.model_selection import StratifiedKFold, cross_val_score\n",
    "from sklearn import svm\n",
    "from sklearn.ensemble import RandomForestClassifier\n",
    "from sklearn.naive_bayes import GaussianNB"
   ]
  },
  {
   "cell_type": "markdown",
   "metadata": {},
   "source": [
    "Load data"
   ]
  },
  {
   "cell_type": "code",
   "execution_count": 2,
   "metadata": {},
   "outputs": [
    {
     "name": "stdout",
     "output_type": "stream",
     "text": [
      "            AA        AR        AN        AD        AC        AQ        AE  \\\n",
      "0     0.014414  0.007207  0.000000  0.007207  0.007207  0.007207  0.000000   \n",
      "1     0.000000  0.002920  0.011679  0.002920  0.002920  0.000000  0.002920   \n",
      "2     0.000000  0.000000  0.000000  0.000000  0.000000  0.003591  0.000000   \n",
      "3     0.000000  0.000000  0.000000  0.000000  0.000000  0.004301  0.000000   \n",
      "4     0.006502  0.002890  0.001445  0.003251  0.001084  0.005418  0.003973   \n",
      "...        ...       ...       ...       ...       ...       ...       ...   \n",
      "1440  0.026667  0.000000  0.000000  0.026667  0.000000  0.013333  0.026667   \n",
      "1441  0.033333  0.011111  0.000000  0.000000  0.000000  0.022222  0.011111   \n",
      "1442  0.000000  0.000000  0.000000  0.000000  0.000000  0.000000  0.000000   \n",
      "1443  0.000000  0.000000  0.000000  0.000000  0.000000  0.000000  0.000000   \n",
      "1444  0.000000  0.000000  0.000000  0.000000  0.000000  0.012987  0.012987   \n",
      "\n",
      "            AG        AH        AI  ...        VK        VM        VF  \\\n",
      "0     0.000000  0.003604  0.000000  ...  0.000000  0.000000  0.007207   \n",
      "1     0.002920  0.000000  0.000000  ...  0.002920  0.005839  0.002920   \n",
      "2     0.000000  0.000000  0.000000  ...  0.000000  0.003591  0.010772   \n",
      "3     0.004301  0.004301  0.000000  ...  0.004301  0.000000  0.000000   \n",
      "4     0.006502  0.001445  0.000722  ...  0.002528  0.000361  0.000722   \n",
      "...        ...       ...       ...  ...       ...       ...       ...   \n",
      "1440  0.013333  0.000000  0.000000  ...  0.000000  0.000000  0.000000   \n",
      "1441  0.000000  0.000000  0.022222  ...  0.033333  0.000000  0.000000   \n",
      "1442  0.000000  0.000000  0.027397  ...  0.000000  0.000000  0.013699   \n",
      "1443  0.000000  0.000000  0.027397  ...  0.000000  0.000000  0.013699   \n",
      "1444  0.012987  0.000000  0.012987  ...  0.000000  0.000000  0.000000   \n",
      "\n",
      "            VP        VS        VT        VW        VY        VV  protFamily  \n",
      "0     0.003604  0.000000  0.010811  0.000000  0.000000  0.000000           0  \n",
      "1     0.005839  0.000000  0.000000  0.000000  0.000000  0.000000           0  \n",
      "2     0.000000  0.000000  0.003591  0.000000  0.000000  0.003591           0  \n",
      "3     0.000000  0.008602  0.000000  0.000000  0.000000  0.000000           0  \n",
      "4     0.004334  0.003612  0.002167  0.000722  0.001084  0.001084           0  \n",
      "...        ...       ...       ...       ...       ...       ...         ...  \n",
      "1440  0.000000  0.013333  0.000000  0.000000  0.013333  0.000000           1  \n",
      "1441  0.000000  0.000000  0.000000  0.000000  0.000000  0.011111           1  \n",
      "1442  0.000000  0.000000  0.000000  0.000000  0.000000  0.013699           1  \n",
      "1443  0.000000  0.000000  0.013699  0.000000  0.000000  0.013699           1  \n",
      "1444  0.000000  0.000000  0.000000  0.000000  0.000000  0.000000           1  \n",
      "\n",
      "[1445 rows x 401 columns]\n",
      "0       0\n",
      "1       0\n",
      "2       0\n",
      "3       0\n",
      "4       0\n",
      "       ..\n",
      "1440    1\n",
      "1441    1\n",
      "1442    1\n",
      "1443    1\n",
      "1444    1\n",
      "Name: protFamily, Length: 1445, dtype: int64\n",
      "            AA        AR        AN        AD        AC        AQ        AE  \\\n",
      "0     0.014414  0.007207  0.000000  0.007207  0.007207  0.007207  0.000000   \n",
      "1     0.000000  0.002920  0.011679  0.002920  0.002920  0.000000  0.002920   \n",
      "2     0.000000  0.000000  0.000000  0.000000  0.000000  0.003591  0.000000   \n",
      "3     0.000000  0.000000  0.000000  0.000000  0.000000  0.004301  0.000000   \n",
      "4     0.006502  0.002890  0.001445  0.003251  0.001084  0.005418  0.003973   \n",
      "...        ...       ...       ...       ...       ...       ...       ...   \n",
      "1440  0.026667  0.000000  0.000000  0.026667  0.000000  0.013333  0.026667   \n",
      "1441  0.033333  0.011111  0.000000  0.000000  0.000000  0.022222  0.011111   \n",
      "1442  0.000000  0.000000  0.000000  0.000000  0.000000  0.000000  0.000000   \n",
      "1443  0.000000  0.000000  0.000000  0.000000  0.000000  0.000000  0.000000   \n",
      "1444  0.000000  0.000000  0.000000  0.000000  0.000000  0.012987  0.012987   \n",
      "\n",
      "            AG        AH        AI  ...        VL        VK        VM  \\\n",
      "0     0.000000  0.003604  0.000000  ...  0.007207  0.000000  0.000000   \n",
      "1     0.002920  0.000000  0.000000  ...  0.005839  0.002920  0.005839   \n",
      "2     0.000000  0.000000  0.000000  ...  0.014363  0.000000  0.003591   \n",
      "3     0.004301  0.004301  0.000000  ...  0.000000  0.004301  0.000000   \n",
      "4     0.006502  0.001445  0.000722  ...  0.004696  0.002528  0.000361   \n",
      "...        ...       ...       ...  ...       ...       ...       ...   \n",
      "1440  0.013333  0.000000  0.000000  ...  0.013333  0.000000  0.000000   \n",
      "1441  0.000000  0.000000  0.022222  ...  0.011111  0.033333  0.000000   \n",
      "1442  0.000000  0.000000  0.027397  ...  0.013699  0.000000  0.000000   \n",
      "1443  0.000000  0.000000  0.027397  ...  0.013699  0.000000  0.000000   \n",
      "1444  0.012987  0.000000  0.012987  ...  0.051948  0.000000  0.000000   \n",
      "\n",
      "            VF        VP        VS        VT        VW        VY        VV  \n",
      "0     0.007207  0.003604  0.000000  0.010811  0.000000  0.000000  0.000000  \n",
      "1     0.002920  0.005839  0.000000  0.000000  0.000000  0.000000  0.000000  \n",
      "2     0.010772  0.000000  0.000000  0.003591  0.000000  0.000000  0.003591  \n",
      "3     0.000000  0.000000  0.008602  0.000000  0.000000  0.000000  0.000000  \n",
      "4     0.000722  0.004334  0.003612  0.002167  0.000722  0.001084  0.001084  \n",
      "...        ...       ...       ...       ...       ...       ...       ...  \n",
      "1440  0.000000  0.000000  0.013333  0.000000  0.000000  0.013333  0.000000  \n",
      "1441  0.000000  0.000000  0.000000  0.000000  0.000000  0.000000  0.011111  \n",
      "1442  0.013699  0.000000  0.000000  0.000000  0.000000  0.000000  0.013699  \n",
      "1443  0.013699  0.000000  0.000000  0.013699  0.000000  0.000000  0.013699  \n",
      "1444  0.000000  0.000000  0.000000  0.000000  0.000000  0.000000  0.000000  \n",
      "\n",
      "[1445 rows x 400 columns]\n"
     ]
    }
   ],
   "source": [
    "### Full dataframe\n",
    "data=pd.read_csv(\"df.csv\")\n",
    "print(data)\n",
    "### Sets for classification\n",
    "X = data.iloc[:, :-1]\n",
    "y = data['protFamily']\n",
    "print(y)\n",
    "print(X)"
   ]
  },
  {
   "cell_type": "markdown",
   "metadata": {},
   "source": [
    "## Make and evaluate ML models\n",
    "\n",
    "### SVM"
   ]
  },
  {
   "cell_type": "code",
   "execution_count": 3,
   "metadata": {},
   "outputs": [
    {
     "name": "stderr",
     "output_type": "stream",
     "text": [
      "C:\\Users\\nunoc\\AppData\\Roaming\\Python\\Python311\\site-packages\\sklearn\\metrics\\_classification.py:1469: UndefinedMetricWarning: Precision is ill-defined and being set to 0.0 in labels with no predicted samples. Use `zero_division` parameter to control this behavior.\n",
      "  _warn_prf(average, modifier, msg_start, len(result))\n",
      "C:\\Users\\nunoc\\AppData\\Roaming\\Python\\Python311\\site-packages\\sklearn\\metrics\\_classification.py:1469: UndefinedMetricWarning: Precision is ill-defined and being set to 0.0 in labels with no predicted samples. Use `zero_division` parameter to control this behavior.\n",
      "  _warn_prf(average, modifier, msg_start, len(result))\n",
      "C:\\Users\\nunoc\\AppData\\Roaming\\Python\\Python311\\site-packages\\sklearn\\metrics\\_classification.py:1469: UndefinedMetricWarning: Precision is ill-defined and being set to 0.0 in labels with no predicted samples. Use `zero_division` parameter to control this behavior.\n",
      "  _warn_prf(average, modifier, msg_start, len(result))\n",
      "C:\\Users\\nunoc\\AppData\\Roaming\\Python\\Python311\\site-packages\\sklearn\\metrics\\_classification.py:1469: UndefinedMetricWarning: Precision is ill-defined and being set to 0.0 in labels with no predicted samples. Use `zero_division` parameter to control this behavior.\n",
      "  _warn_prf(average, modifier, msg_start, len(result))\n",
      "C:\\Users\\nunoc\\AppData\\Roaming\\Python\\Python311\\site-packages\\sklearn\\metrics\\_classification.py:1469: UndefinedMetricWarning: Precision is ill-defined and being set to 0.0 in labels with no predicted samples. Use `zero_division` parameter to control this behavior.\n",
      "  _warn_prf(average, modifier, msg_start, len(result))\n",
      "C:\\Users\\nunoc\\AppData\\Roaming\\Python\\Python311\\site-packages\\sklearn\\metrics\\_classification.py:1469: UndefinedMetricWarning: Precision is ill-defined and being set to 0.0 in labels with no predicted samples. Use `zero_division` parameter to control this behavior.\n",
      "  _warn_prf(average, modifier, msg_start, len(result))\n",
      "C:\\Users\\nunoc\\AppData\\Roaming\\Python\\Python311\\site-packages\\sklearn\\metrics\\_classification.py:1469: UndefinedMetricWarning: Precision is ill-defined and being set to 0.0 in labels with no predicted samples. Use `zero_division` parameter to control this behavior.\n",
      "  _warn_prf(average, modifier, msg_start, len(result))\n",
      "C:\\Users\\nunoc\\AppData\\Roaming\\Python\\Python311\\site-packages\\sklearn\\metrics\\_classification.py:1469: UndefinedMetricWarning: Precision is ill-defined and being set to 0.0 in labels with no predicted samples. Use `zero_division` parameter to control this behavior.\n",
      "  _warn_prf(average, modifier, msg_start, len(result))\n",
      "C:\\Users\\nunoc\\AppData\\Roaming\\Python\\Python311\\site-packages\\sklearn\\metrics\\_classification.py:1469: UndefinedMetricWarning: Precision is ill-defined and being set to 0.0 in labels with no predicted samples. Use `zero_division` parameter to control this behavior.\n",
      "  _warn_prf(average, modifier, msg_start, len(result))\n",
      "C:\\Users\\nunoc\\AppData\\Roaming\\Python\\Python311\\site-packages\\sklearn\\metrics\\_classification.py:1469: UndefinedMetricWarning: Precision is ill-defined and being set to 0.0 in labels with no predicted samples. Use `zero_division` parameter to control this behavior.\n",
      "  _warn_prf(average, modifier, msg_start, len(result))\n"
     ]
    },
    {
     "name": "stdout",
     "output_type": "stream",
     "text": [
      "SVM classifier metrics across the 10 folds:\n",
      "| (Shown as ==> Avg +- StdDev)\n",
      "| Precision: 0.646 +- 0.005\n",
      "| Recall: 0.803 +- 0.003\n",
      "| F1-score: 0.716 +- 0.004\n"
     ]
    }
   ],
   "source": [
    "### Make model and apply 10-fold cross-validation\n",
    "svm_clf = svm.SVC(kernel='linear', C=1, random_state=42)\n",
    "cross_val = StratifiedKFold(n_splits=10, shuffle=True, random_state=42)\n",
    "svm_prec_scores = cross_val_score(svm_clf, X, y, cv=cross_val, scoring='precision_weighted')\n",
    "svm_rec_scores = cross_val_score(svm_clf, X, y, cv=cross_val, scoring='recall_weighted')\n",
    "svm_f1_scores = cross_val_score(svm_clf, X, y, cv=cross_val, scoring='f1_weighted')\n",
    "### Get metrics\n",
    "print(\"SVM classifier metrics across the 10 folds:\")\n",
    "print(\"| (Shown as ==> Avg +- StdDev)\")\n",
    "svm_mean_prec = svm_prec_scores.mean()\n",
    "svm_prec_stdev = svm_prec_scores.std()\n",
    "print(f\"| Precision: {svm_mean_prec:.3f} +- {svm_prec_stdev:.3f}\")\n",
    "svm_mean_rec = svm_rec_scores.mean()\n",
    "svm_rec_stdev = svm_rec_scores.std()\n",
    "print(f\"| Recall: {svm_mean_rec:.3f} +- {svm_rec_stdev:.3f}\")\n",
    "svm_mean_f1 = svm_f1_scores.mean()\n",
    "svm_f1_stdev = svm_f1_scores.std()\n",
    "print(f\"| F1-score: {svm_mean_f1:.3f} +- {svm_f1_stdev:.3f}\")"
   ]
  },
  {
   "cell_type": "markdown",
   "metadata": {},
   "source": [
    "### Random Forests"
   ]
  },
  {
   "cell_type": "code",
   "execution_count": 4,
   "metadata": {},
   "outputs": [
    {
     "name": "stdout",
     "output_type": "stream",
     "text": [
      "Random Forests classifier metrics across the 10 folds:\n",
      "| (Shown as ==> Avg +- StdDev)\n",
      "| Precision: 0.991 +- 0.007\n",
      "| Recall: 0.990 +- 0.007\n",
      "| F1-score: 0.990 +- 0.007\n"
     ]
    }
   ],
   "source": [
    "### Make model and apply 10-fold cross-validation\n",
    "rf_clf = RandomForestClassifier(random_state=42)\n",
    "rf_prec_scores = cross_val_score(rf_clf, X, y, cv=cross_val, scoring='precision_weighted')\n",
    "rf_rec_scores = cross_val_score(rf_clf, X, y, cv=cross_val, scoring='recall_weighted')\n",
    "rf_f1_scores = cross_val_score(rf_clf, X, y, cv=cross_val, scoring='f1_weighted')\n",
    "### Get metrics\n",
    "print(\"Random Forests classifier metrics across the 10 folds:\")\n",
    "print(\"| (Shown as ==> Avg +- StdDev)\")\n",
    "rf_mean_prec = rf_prec_scores.mean()\n",
    "rf_prec_stdev = rf_prec_scores.std()\n",
    "print(f\"| Precision: {rf_mean_prec:.3f} +- {rf_prec_stdev:.3f}\")\n",
    "rf_mean_rec = rf_rec_scores.mean()\n",
    "rf_rec_stdev = rf_rec_scores.std()\n",
    "print(f\"| Recall: {rf_mean_rec:.3f} +- {rf_rec_stdev:.3f}\")\n",
    "rf_mean_f1 = rf_f1_scores.mean()\n",
    "rf_f1_stdev = rf_f1_scores.std()\n",
    "print(f\"| F1-score: {rf_mean_f1:.3f} +- {rf_f1_stdev:.3f}\")"
   ]
  },
  {
   "cell_type": "markdown",
   "metadata": {},
   "source": [
    "### Naive Bayes"
   ]
  },
  {
   "cell_type": "code",
   "execution_count": 5,
   "metadata": {},
   "outputs": [
    {
     "name": "stdout",
     "output_type": "stream",
     "text": [
      "Gaussian naive Bayes classifier metrics across the 10 folds:\n",
      "| (Shown as ==> Avg +- StdDev)\n",
      "| Precision: 0.973 +- 0.005\n",
      "| Recall: 0.969 +- 0.006\n",
      "| F1-score: 0.970 +- 0.006\n"
     ]
    }
   ],
   "source": [
    "### Make model and apply 10-fold cross-validation\n",
    "gnb = GaussianNB()\n",
    "gnb_prec_scores = cross_val_score(gnb, X, y, cv=cross_val, scoring='precision_weighted')\n",
    "gnb_rec_scores = cross_val_score(gnb, X, y, cv=cross_val, scoring='recall_weighted')\n",
    "gnb_f1_scores = cross_val_score(gnb, X, y, cv=cross_val, scoring='f1_weighted')\n",
    "### Get metrics\n",
    "print(\"Gaussian naive Bayes classifier metrics across the 10 folds:\")\n",
    "print(\"| (Shown as ==> Avg +- StdDev)\")\n",
    "gnb_mean_prec = gnb_prec_scores.mean()\n",
    "gnb_prec_stdev = gnb_prec_scores.std()\n",
    "print(f\"| Precision: {gnb_mean_prec:.3f} +- {gnb_prec_stdev:.3f}\")\n",
    "gnb_mean_rec = gnb_rec_scores.mean()\n",
    "gnb_rec_stdev = gnb_rec_scores.std()\n",
    "print(f\"| Recall: {gnb_mean_rec:.3f} +- {gnb_rec_stdev:.3f}\")\n",
    "gnb_mean_f1 = gnb_f1_scores.mean()\n",
    "gnb_f1_stdev = gnb_f1_scores.std()\n",
    "print(f\"| F1-score: {gnb_mean_f1:.3f} +- {gnb_f1_stdev:.3f}\")"
   ]
  },
  {
   "cell_type": "markdown",
   "metadata": {},
   "source": [
    "### Summary Table\n",
    "\n",
    "-> Results after running the \"classify_proteins.py\" script (same as obtained here // best method in bold):\n",
    "\n",
    "(Metrics shown as \"Avg +- StDev\")\n",
    "\n",
    "| ML Algorithm | Precision | Recall | F1-score |\n",
    "|:------------:|:---------:|:------:|:--------:|\n",
    "| SVM | 0.646 +- 0.005 | 0.803 +- 0.003 | 0.716 +- 0.004 |\n",
    "| **Random Forests** | **0.991 +- 0.007** | **0.990 +- 0.007** | **0.990 +- 0.007** |\n",
    "| Gaussian naive Bayes | 0.973 +- 0.005 | 0.969 +- 0.006 | 0.970 +- 0.006 |"
   ]
  }
 ],
 "metadata": {
  "kernelspec": {
   "display_name": "base",
   "language": "python",
   "name": "python3"
  },
  "language_info": {
   "codemirror_mode": {
    "name": "ipython",
    "version": 3
   },
   "file_extension": ".py",
   "mimetype": "text/x-python",
   "name": "python",
   "nbconvert_exporter": "python",
   "pygments_lexer": "ipython3",
   "version": "3.11.9"
  }
 },
 "nbformat": 4,
 "nbformat_minor": 2
}
